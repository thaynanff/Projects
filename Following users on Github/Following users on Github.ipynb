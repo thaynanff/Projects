{
 "cells": [
  {
   "cell_type": "markdown",
   "id": "ea9703d2",
   "metadata": {},
   "source": [
    "## Automatically following users on Github"
   ]
  },
  {
   "cell_type": "markdown",
   "id": "83be9911",
   "metadata": {},
   "source": [
    "This script intends to automatize the action of following people on Github, based on given criteria."
   ]
  },
  {
   "cell_type": "markdown",
   "id": "d775bf4c",
   "metadata": {},
   "source": [
    "To be able to do it, we'll need to use pyautogui and time functions:"
   ]
  },
  {
   "cell_type": "code",
   "execution_count": null,
   "id": "174e62f9",
   "metadata": {},
   "outputs": [],
   "source": [
    "import pyautogui\n",
    "import time"
   ]
  },
  {
   "cell_type": "markdown",
   "id": "e8ef2afc",
   "metadata": {},
   "source": [
    "It's important to advice who's going to use the code that they should not use the computer while the code is running. For this, we will use a function of pyautogui"
   ]
  },
  {
   "cell_type": "code",
   "execution_count": null,
   "id": "44734903",
   "metadata": {},
   "outputs": [],
   "source": [
    "pyautogui.alert('The code will start running. Please, do not use anything in your computer while the code is running!')"
   ]
  },
  {
   "cell_type": "markdown",
   "id": "b9bf80d7",
   "metadata": {},
   "source": [
    "Since the computer takes a little time to process the requests you make, let's add this time before each line of the code, so that the code works properly"
   ]
  },
  {
   "cell_type": "code",
   "execution_count": null,
   "id": "c2a10c4b",
   "metadata": {},
   "outputs": [],
   "source": [
    "pyautogui.PAUSE = 0.5"
   ]
  },
  {
   "cell_type": "markdown",
   "id": "3694a6d7",
   "metadata": {},
   "source": [
    "Now, we're going to enter in Github's site"
   ]
  },
  {
   "cell_type": "code",
   "execution_count": null,
   "id": "7ea05bb4",
   "metadata": {},
   "outputs": [],
   "source": [
    "pyautogui.press('winleft')  # this line presses the left Windows bottom\n",
    "\n",
    "# this block writes chrome, presses enter, and go to Github site\n",
    "pyautogui.write('chrome')\n",
    "pyautogui.press('enter')\n",
    "pyautogui.write('https://github.com/')\n",
    "pyautogui.press('enter')"
   ]
  },
  {
   "cell_type": "markdown",
   "id": "89bdbc83",
   "metadata": {},
   "source": [
    "Afterwards, the code is going to click on the search button of Github's site and search for something you're interested in. In the case below, I searched for Data Analysts, since I'm interested in keeping in touch with professionals in this area."
   ]
  },
  {
   "cell_type": "code",
   "execution_count": null,
   "id": "c302be93",
   "metadata": {},
   "outputs": [],
   "source": [
    "time.sleep(2) # this line adds 2 secs of waiting because normally Windows and the internet take some time to open Github\n",
    "pyautogui.click(171, 147)\n",
    "pyautogui.write('data analyst')\n",
    "pyautogui.press('enter')"
   ]
  },
  {
   "cell_type": "markdown",
   "id": "15cd7a79",
   "metadata": {},
   "source": [
    "And then, it goes to the users results:"
   ]
  },
  {
   "cell_type": "code",
   "execution_count": null,
   "id": "69308357",
   "metadata": {},
   "outputs": [],
   "source": [
    "time.sleep(1) # more time to wait the page to load. Notice that this only works in this block and not all of them\n",
    "pyautogui.click(749, 413)\n",
    "pyautogui.press('enter')"
   ]
  },
  {
   "cell_type": "markdown",
   "id": "46eede0f",
   "metadata": {},
   "source": [
    "The following block clicks on the follow/unfollow buttons"
   ]
  },
  {
   "cell_type": "code",
   "execution_count": null,
   "id": "49de3de2",
   "metadata": {},
   "outputs": [],
   "source": [
    "time.sleep(1)\n",
    "x = 0  # counter of number of pages\n",
    "while x < 1:  # number of pages the code accesses. Put the number of pages you want the code to access\n",
    "    y_increaser = 0  # it increases the coordinate of y automatically\n",
    "    for y in range(0, 10):\n",
    "        pyautogui.click(1251, 231 + y_increaser)\n",
    "        y_increaser += 60\n",
    "        time.sleep(0.8)\n",
    "    x += 1  # it increases the x value"
   ]
  }
 ],
 "metadata": {
  "kernelspec": {
   "display_name": "Python 3 (ipykernel)",
   "language": "python",
   "name": "python3"
  },
  "language_info": {
   "codemirror_mode": {
    "name": "ipython",
    "version": 3
   },
   "file_extension": ".py",
   "mimetype": "text/x-python",
   "name": "python",
   "nbconvert_exporter": "python",
   "pygments_lexer": "ipython3",
   "version": "3.9.7"
  }
 },
 "nbformat": 4,
 "nbformat_minor": 5
}
